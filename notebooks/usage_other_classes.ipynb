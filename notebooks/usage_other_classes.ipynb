{
 "cells": [
  {
   "cell_type": "code",
   "execution_count": 88,
   "metadata": {},
   "outputs": [],
   "source": [
    "import pandas as pd\n",
    "\n",
    "from sklearn.datasets import load_diabetes\n",
    "from sklearn.linear_model import LinearRegression\n",
    "from sklearn.preprocessing import MinMaxScaler\n",
    "from sklearn.metrics import mean_squared_error"
   ]
  },
  {
   "cell_type": "markdown",
   "metadata": {},
   "source": [
    "# Experimentation cycle"
   ]
  },
  {
   "cell_type": "markdown",
   "metadata": {},
   "source": [
    "### Load"
   ]
  },
  {
   "cell_type": "code",
   "execution_count": 89,
   "metadata": {},
   "outputs": [],
   "source": [
    "diabetes = load_diabetes(as_frame=True)\n",
    "X = diabetes.data\n",
    "y = diabetes.target\n",
    "\n",
    "X_train = X.iloc[:300]\n",
    "X_test = X.iloc[300:]\n",
    "\n",
    "y_train = y.iloc[:300]\n",
    "y_test = y.iloc[300:]\n"
   ]
  },
  {
   "cell_type": "markdown",
   "metadata": {},
   "source": [
    "### Preprocess"
   ]
  },
  {
   "cell_type": "code",
   "execution_count": 90,
   "metadata": {},
   "outputs": [],
   "source": [
    "def preprocess_data(df_input,scaler):\n",
    "    df = df_input.copy()\n",
    "    df.loc[(df_input['sex'] == -0.044642),['sex']] = 1\n",
    "    df.loc[df_input['sex'] != -0.044642,['sex']] = 0\n",
    "    df = scaler.transform(df)    \n",
    "    return df\n",
    "\n",
    "scaler = MinMaxScaler()\n",
    "scaler.fit(X_train)\n",
    "\n",
    "X_train_features = preprocess_data(X_train,scaler=scaler)\n",
    "X_test_features = preprocess_data(X_test,scaler=scaler)"
   ]
  },
  {
   "cell_type": "markdown",
   "metadata": {},
   "source": [
    "### Train"
   ]
  },
  {
   "cell_type": "code",
   "execution_count": 86,
   "metadata": {},
   "outputs": [
    {
     "data": {
      "text/plain": [
       "LinearRegression()"
      ]
     },
     "execution_count": 86,
     "metadata": {},
     "output_type": "execute_result"
    }
   ],
   "source": [
    "model = LinearRegression()\n",
    "model.fit(X_train_features,y_train)"
   ]
  },
  {
   "cell_type": "markdown",
   "metadata": {},
   "source": [
    "### Predict"
   ]
  },
  {
   "cell_type": "code",
   "execution_count": 91,
   "metadata": {},
   "outputs": [],
   "source": [
    "y_pred = model.predict(X_test_features)"
   ]
  },
  {
   "cell_type": "markdown",
   "metadata": {},
   "source": [
    "### Evaluate"
   ]
  },
  {
   "cell_type": "code",
   "execution_count": 92,
   "metadata": {},
   "outputs": [
    {
     "data": {
      "text/plain": [
       "53.53157229385351"
      ]
     },
     "execution_count": 92,
     "metadata": {},
     "output_type": "execute_result"
    }
   ],
   "source": [
    "mean_squared_error(y_pred=y_pred,y_true=y_test,squared=False)"
   ]
  },
  {
   "cell_type": "markdown",
   "metadata": {},
   "source": [
    "# Putting code into production format"
   ]
  },
  {
   "cell_type": "code",
   "execution_count": null,
   "metadata": {},
   "outputs": [],
   "source": [
    "from abc import ABC, abstractmethod\n",
    "\n",
    "class DataLoader(ABC):\n",
    "\n",
    "    @abstractmethod\n",
    "    def load_data(self,path):\n",
    "        '''Method to load the data into memory from a given path. Data should be stored in this class using the set_data property'''\n",
    "        pass\n",
    "\n",
    "    @property\n",
    "    def get_data(self):\n",
    "        return self._data\n",
    "\n",
    "    @property\n",
    "    def set_data(self,data):\n",
    "        self._data = data\n",
    "\n",
    "class DataProcessor(ABC):\n",
    "\n",
    "    @abstractmethod\n",
    "    def preprocess(self,data:pd.DataFrame)-> pd.DataFrame:\n",
    "        '''Method to preprocess the data. Data should be stored in this class using the set_data property'''\n",
    "        pass\n",
    "\n",
    "    @property\n",
    "    def get_processed_data(self):\n",
    "        return self._processed_data\n",
    "\n",
    "    @property\n",
    "    def set_processed_data(self,data):\n",
    "        self._processed_data = data\n",
    "\n",
    "class ModelTrainer(ABC):\n",
    "\n",
    "    @abstractmethod\n",
    "    def fit(self,X,y):\n",
    "        '''Method to train the machine learning model. The object model should be stored in the _model property defined below.'''\n",
    "        pass\n",
    "    \n",
    "    @property\n",
    "    def set_model(self):\n",
    "        self._model = model\n",
    "\n",
    "    @property\n",
    "    def get_model(self):\n",
    "        '''Property to get the model object.'''\n",
    "        return self._model\n",
    "\n",
    "class ModelPredictor(ABC):\n",
    "    \n",
    "    @abstractmethod\n",
    "    def predict(self,X):\n",
    "        '''Method to make predictions with the machine learning model. The object model should be stored in the _model property defined below.'''\n",
    "        pass\n",
    "\n",
    "    @property\n",
    "    def set_model(self):\n",
    "        self._model = model\n",
    "\n",
    "    @property\n",
    "    def get_model(self):\n",
    "        return self._model\n",
    "\n",
    "    @property\n",
    "    def name(self):\n",
    "        return type(self._model).__name__\n",
    "\n",
    "class ModelEvaluator:\n",
    "    def __init__(self,model:ModelPredictor):\n",
    "        self._model = model\n",
    "        self._metrics_results = []\n",
    "\n",
    "    def evaluate_metrics(self,X_evaluation,y_true,metrics:list[function]):\n",
    "        \n",
    "        \"\"\"Evaluates the model over data and provided metrics.\"\"\"\n",
    "\n",
    "        y_pred = self._model.predict(X=X_evaluation)\n",
    "        for metric in metrics:\n",
    "            self._metrics_results.append({metric.__name__:(y_pred,y_true)})\n",
    "\n",
    "    @property\n",
    "    def get_metrics_results(self):\n",
    "        return self._metrics_results\n",
    "\n",
    "class FeatureGenerator(ABC):\n",
    "    pass\n",
    "# TODO: finish this."
   ]
  },
  {
   "cell_type": "code",
   "execution_count": 93,
   "metadata": {},
   "outputs": [],
   "source": [
    "def sum(x=2):\n",
    "    return x"
   ]
  },
  {
   "cell_type": "code",
   "execution_count": 102,
   "metadata": {},
   "outputs": [
    {
     "data": {
      "text/plain": [
       "'sum'"
      ]
     },
     "execution_count": 102,
     "metadata": {},
     "output_type": "execute_result"
    }
   ],
   "source": [
    "sum.__name__"
   ]
  }
 ],
 "metadata": {
  "kernelspec": {
   "display_name": "Python 3.9.12 ('base')",
   "language": "python",
   "name": "python3"
  },
  "language_info": {
   "codemirror_mode": {
    "name": "ipython",
    "version": 3
   },
   "file_extension": ".py",
   "mimetype": "text/x-python",
   "name": "python",
   "nbconvert_exporter": "python",
   "pygments_lexer": "ipython3",
   "version": "3.9.12"
  },
  "orig_nbformat": 4,
  "vscode": {
   "interpreter": {
    "hash": "fba3b5e072295f01be074a5a38b56fd3f9a8b5b7274b5dee54e74765bfdf1822"
   }
  }
 },
 "nbformat": 4,
 "nbformat_minor": 2
}
