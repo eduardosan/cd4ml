{
 "cells": [
  {
   "cell_type": "markdown",
   "metadata": {},
   "source": [
    "# Experimentation cycle"
   ]
  },
  {
   "cell_type": "code",
   "execution_count": 1,
   "metadata": {},
   "outputs": [],
   "source": [
    "import pandas as pd\n",
    "from sklearn.datasets import load_diabetes\n",
    "from sklearn.linear_model import Ridge\n",
    "from sklearn.preprocessing import MinMaxScaler\n",
    "from sklearn.metrics import mean_squared_error,mean_absolute_error\n"
   ]
  },
  {
   "cell_type": "markdown",
   "metadata": {},
   "source": [
    "### Load"
   ]
  },
  {
   "cell_type": "code",
   "execution_count": 2,
   "metadata": {},
   "outputs": [],
   "source": [
    "diabetes = load_diabetes(as_frame=True)\n",
    "X = diabetes.data\n",
    "y = diabetes.target\n",
    "\n",
    "X_train = X.iloc[:300]\n",
    "X_test = X.iloc[300:]\n",
    "\n",
    "y_train = y.iloc[:300]\n",
    "y_test = y.iloc[300:]\n"
   ]
  },
  {
   "cell_type": "markdown",
   "metadata": {},
   "source": [
    "### Preprocess"
   ]
  },
  {
   "cell_type": "code",
   "execution_count": 3,
   "metadata": {},
   "outputs": [],
   "source": [
    "def preprocess_data(df_input,scaler):\n",
    "    df = df_input.copy()\n",
    "    df.loc[(df_input['sex'] == -0.044642),['sex']] = 1\n",
    "    df.loc[df_input['sex'] != -0.044642,['sex']] = 0\n",
    "    df = scaler.transform(df)    \n",
    "    return df\n",
    "\n",
    "scaler = MinMaxScaler()\n",
    "scaler.fit(X_train)\n",
    "\n",
    "X_train_features = preprocess_data(X_train,scaler=scaler)\n",
    "X_test_features = preprocess_data(X_test,scaler=scaler)"
   ]
  },
  {
   "cell_type": "markdown",
   "metadata": {},
   "source": [
    "### Train"
   ]
  },
  {
   "cell_type": "code",
   "execution_count": 4,
   "metadata": {},
   "outputs": [
    {
     "data": {
      "text/plain": [
       "Ridge()"
      ]
     },
     "execution_count": 4,
     "metadata": {},
     "output_type": "execute_result"
    }
   ],
   "source": [
    "model = Ridge()\n",
    "model.fit(X_train_features,y_train)"
   ]
  },
  {
   "cell_type": "markdown",
   "metadata": {},
   "source": [
    "### Predict"
   ]
  },
  {
   "cell_type": "code",
   "execution_count": 5,
   "metadata": {},
   "outputs": [],
   "source": [
    "y_pred = model.predict(X_test_features)"
   ]
  },
  {
   "cell_type": "markdown",
   "metadata": {},
   "source": [
    "### Evaluate"
   ]
  },
  {
   "cell_type": "code",
   "execution_count": 6,
   "metadata": {},
   "outputs": [
    {
     "data": {
      "text/plain": [
       "53.410131367814344"
      ]
     },
     "execution_count": 6,
     "metadata": {},
     "output_type": "execute_result"
    }
   ],
   "source": [
    "mean_squared_error(y_pred=y_pred,y_true=y_test,squared=False)"
   ]
  },
  {
   "cell_type": "markdown",
   "metadata": {},
   "source": [
    "# Transforming Data Science experimentation into production code"
   ]
  },
  {
   "cell_type": "code",
   "execution_count": 4,
   "metadata": {},
   "outputs": [],
   "source": [
    "from abc import ABC, abstractmethod\n",
    "from dataclasses import dataclass\n",
    "from typing import Any, Callable,Union\n",
    "import pandas as pd\n",
    "\n",
    "from cd4ml.contracts.data_processor import DataProcessor\n",
    "from cd4ml.contracts.feature_generator import FeatureGenerator\n",
    "from cd4ml.contracts.model import Model,ModelEvaluator\n",
    "from cd4ml.contracts.artifact import ArtifactsHandler,Artifact\n"
   ]
  },
  {
   "cell_type": "markdown",
   "metadata": {},
   "source": [
    "## Implementing concrete classes"
   ]
  },
  {
   "cell_type": "code",
   "execution_count": 3,
   "metadata": {},
   "outputs": [],
   "source": [
    "from joblib import dump, load\n",
    "\n",
    "class DiabetesDataProcessor(DataProcessor):\n",
    "    \n",
    "    def __init__(self,loader) -> None:\n",
    "        self._loader = loader\n",
    "    \n",
    "    def load_data(self) -> pd.DataFrame:\n",
    "        diabetes = self._loader(as_frame=True)\n",
    "        df = diabetes.data\n",
    "        df['target'] = diabetes.target\n",
    "        self.raw_data = df\n",
    "        return df\n",
    "\n",
    "    def preprocess(self,raw_data:pd.DataFrame) -> pd.DataFrame:\n",
    "        df = self._encode_sex_feature(raw_data)\n",
    "        self.processed_data = df\n",
    "        return df\n",
    "\n",
    "    def _encode_sex_feature(self,df:pd.DataFrame):\n",
    "        df_encoded = df.copy()\n",
    "        df_encoded.loc[(df['sex'] == -0.044642),['sex']] = 1\n",
    "        df_encoded.loc[df['sex'] != -0.044642,['sex']] = 0\n",
    "        return df_encoded\n",
    "\n",
    "class DiabetesFeatureGenerator(FeatureGenerator):\n",
    "    \n",
    "    def get_features(self, data: pd.DataFrame) -> pd.DataFrame:\n",
    "        if 'target' in data.columns:\n",
    "            return data.drop(columns=['target'])\n",
    "        else:\n",
    "            return data\n",
    "        \n",
    "    def get_target(self, data: pd.DataFrame) -> pd.DataFrame:\n",
    "        try:\n",
    "            return data['target']\n",
    "        except Exception as e:\n",
    "            print(e)\n",
    "\n",
    "class DiabetesModel(Model):\n",
    "    \n",
    "    def __init__(self, model, model_params, scaler, scaler_params) -> None:\n",
    "        self.model = model(**model_params)\n",
    "        self.scaler = scaler(**scaler_params)\n",
    "        super().__init__(artifacts = [\n",
    "                                Artifact(name='model',object = self.model,params = model_params),\n",
    "                                Artifact(name='scaler',object = self.scaler,params = scaler_params)])\n",
    "\n",
    "    def fit(self, X:pd.DataFrame, y:pd.DataFrame):\n",
    "        estimator,scaler = self.artifacts_objects\n",
    "        scaler.fit(X)\n",
    "        X_norm = scaler.transform(X)\n",
    "        estimator.fit(X_norm,y)\n",
    "    \n",
    "    def predict(self, X):\n",
    "        estimator,scaler = self.artifacts_objects\n",
    "        X_norm = scaler.transform(X)\n",
    "        return estimator.predict(X_norm)\n",
    "\n",
    "class DiabetesArtifactHandler(ArtifactsHandler):\n",
    "    \n",
    "    def __init__(self,path) -> None:\n",
    "        self.path = path\n",
    "\n",
    "    def save(self,artifacts:list[Artifact]):\n",
    "        estimator, scaler = artifacts\n",
    "        dump(estimator.object, self.path+f'/{estimator.name}.joblib') \n",
    "        dump(scaler.object, self.path+f'/{scaler.name}.joblib')\n",
    "\n",
    "    def load(self,parameters:dict) -> list[Artifact]:\n",
    "        artifacts = []\n",
    "        \n",
    "        model_params = parameters['model_params']\n",
    "        estimator = load(self.path+'/model.joblib') \n",
    "        artifacts.append(Artifact(name='model',object=estimator,params=model_params))\n",
    "        \n",
    "        scaler_params = parameters['scaler_params']\n",
    "        scaler = load(self.path+'/scaler.joblib') \n",
    "        artifacts.append(Artifact(name='scaler',object=scaler,params=scaler_params))\n",
    "\n",
    "        return artifacts"
   ]
  },
  {
   "cell_type": "markdown",
   "metadata": {},
   "source": [
    "## Setting parameters and loading dependencies\n",
    "\n",
    "All the necessary parameters and lib dependencies should be structured in a parameters.py file that will be passed to the ModelBuilding and ModelServing pipelines"
   ]
  },
  {
   "cell_type": "code",
   "execution_count": 5,
   "metadata": {},
   "outputs": [],
   "source": [
    "from sklearn.datasets import load_diabetes\n",
    "from sklearn.linear_model import Ridge\n",
    "from sklearn.preprocessing import MinMaxScaler\n",
    "from sklearn.metrics import mean_squared_error,mean_absolute_error\n",
    "from sklearn.model_selection import train_test_split\n",
    "\n",
    "def rmse(y_true,y_pred):\n",
    "    return mean_squared_error(y_true,y_pred,squared=False)\n",
    "\n",
    "data_processor_params = {\n",
    "    'loader':load_diabetes\n",
    "}\n",
    "\n",
    "feature_generator_params = {\n",
    "}\n",
    "\n",
    "model_params = {\n",
    "    'model':Ridge,\n",
    "    'model_params':{'fit_intercept':True,'solver':'lsqr','alpha':0.5},\n",
    "    'scaler':MinMaxScaler,\n",
    "    'scaler_params':{'feature_range':[0,1]}\n",
    "}\n",
    "\n",
    "evaluator_params = {\n",
    "    'metrics':[rmse,mean_squared_error,mean_absolute_error]\n",
    "}\n",
    "\n",
    "artifacts_handler_parameters = {\n",
    "    'model_params':model_params['model_params'],\n",
    "    'scaler_params':model_params['scaler_params']\n",
    "}"
   ]
  },
  {
   "cell_type": "markdown",
   "metadata": {},
   "source": [
    "## Training Pipeline"
   ]
  },
  {
   "cell_type": "code",
   "execution_count": 6,
   "metadata": {},
   "outputs": [],
   "source": [
    "data_processor = DiabetesDataProcessor(**data_processor_params)\n",
    "raw_data = data_processor.load_data()\n",
    "processed_data = data_processor.preprocess(raw_data)\n",
    "\n",
    "feature_generator = DiabetesFeatureGenerator(**feature_generator_params)\n",
    "X = feature_generator.get_features(processed_data)\n",
    "y = feature_generator.get_target(processed_data)\n",
    "\n",
    "# In a more realistic scenario, training and test sets will be chosen externally to this pipeline.\n",
    "X_train,X_test,y_train,y_test = train_test_split(X,y,test_size=0.8,random_state=42)\n",
    "\n",
    "model = DiabetesModel(**model_params)\n",
    "model.fit(X_train,y_train)"
   ]
  },
  {
   "cell_type": "code",
   "execution_count": 7,
   "metadata": {},
   "outputs": [
    {
     "name": "stdout",
     "output_type": "stream",
     "text": [
      "Train results: {'rmse': 54.96516990330306, 'mean_squared_error': 3021.1699024989725, 'mean_absolute_error': 43.681485821721225}\n",
      "\n",
      "Test results: {'rmse': 58.9462209485551, 'mean_squared_error': 3474.6569641158762, 'mean_absolute_error': 48.04694278124167}\n"
     ]
    }
   ],
   "source": [
    "evaluator = ModelEvaluator(model=model)\n",
    "evaluator_params['X'] = X_train\n",
    "evaluator_params['y'] = y_train\n",
    "results = evaluator.evaluate(**evaluator_params)\n",
    "print(\"Train results:\",results)\n",
    "\n",
    "evaluator_params['X'] = X_test\n",
    "evaluator_params['y'] = y_test\n",
    "results = evaluator.evaluate(**evaluator_params)\n",
    "print(\"\\nTest results:\",results)"
   ]
  },
  {
   "cell_type": "markdown",
   "metadata": {},
   "source": [
    "## Saving Artifacts (This step is orchestrated by ModelBuilding steps)"
   ]
  },
  {
   "cell_type": "code",
   "execution_count": 8,
   "metadata": {},
   "outputs": [],
   "source": [
    "handler = DiabetesArtifactHandler(path = \".\")\n",
    "handler.save(artifacts=model.artifacts)"
   ]
  },
  {
   "cell_type": "markdown",
   "metadata": {},
   "source": [
    "## Loading Artifacts of a Trained Model"
   ]
  },
  {
   "cell_type": "code",
   "execution_count": 9,
   "metadata": {},
   "outputs": [],
   "source": [
    "del model,handler\n",
    "\n",
    "handler = DiabetesArtifactHandler(path = \".\")\n",
    "artifacts = handler.load(parameters=artifacts_handler_parameters)\n",
    "model = DiabetesModel(**model_params)\n",
    "model.artifacts = artifacts"
   ]
  },
  {
   "cell_type": "markdown",
   "metadata": {},
   "source": [
    "## Testing Saved Model"
   ]
  },
  {
   "cell_type": "code",
   "execution_count": 10,
   "metadata": {},
   "outputs": [],
   "source": [
    "del data_processor,feature_generator\n",
    "\n",
    "data_processor = DiabetesDataProcessor(**data_processor_params)\n",
    "raw_data = data_processor.load_data()\n",
    "processed_data = data_processor.preprocess(raw_data)\n",
    "del raw_data\n",
    "\n",
    "feature_generator = DiabetesFeatureGenerator(**feature_generator_params)\n",
    "X = feature_generator.get_features(processed_data)\n",
    "y = feature_generator.get_target(processed_data)\n",
    "del processed_data\n"
   ]
  },
  {
   "cell_type": "code",
   "execution_count": 11,
   "metadata": {},
   "outputs": [
    {
     "name": "stdout",
     "output_type": "stream",
     "text": [
      "Train results: {'rmse': 54.96516990330306, 'mean_squared_error': 3021.1699024989725, 'mean_absolute_error': 43.681485821721225}\n",
      "\n",
      "Test results: {'rmse': 58.9462209485551, 'mean_squared_error': 3474.6569641158762, 'mean_absolute_error': 48.04694278124167}\n"
     ]
    }
   ],
   "source": [
    "X_train,X_test,y_train,y_test = train_test_split(X,y,test_size=0.8,random_state=42)\n",
    "evaluator = ModelEvaluator(model=model)\n",
    "evaluator_params['X'] = X_train\n",
    "evaluator_params['y'] = y_train\n",
    "results = evaluator.evaluate(**evaluator_params)\n",
    "print(\"Train results:\",results)\n",
    "\n",
    "evaluator_params['X'] = X_test\n",
    "evaluator_params['y'] = y_test\n",
    "results = evaluator.evaluate(**evaluator_params)\n",
    "print(\"\\nTest results:\",results)"
   ]
  },
  {
   "cell_type": "markdown",
   "metadata": {},
   "source": [
    "## Inference Pipeline with loaded Modeland Artifacts"
   ]
  },
  {
   "cell_type": "code",
   "execution_count": 12,
   "metadata": {},
   "outputs": [
    {
     "data": {
      "text/plain": [
       "array([191.2987309 ,  80.83555847, 160.00279695, 130.20762935,\n",
       "       123.27026075, 105.44001573,  94.55850702, 157.08911378,\n",
       "       149.93666538, 170.82674973])"
      ]
     },
     "execution_count": 12,
     "metadata": {},
     "output_type": "execute_result"
    }
   ],
   "source": [
    "data_processor = DiabetesDataProcessor(**data_processor_params)\n",
    "raw_data = data_processor.load_data()\n",
    "processed_data = data_processor.preprocess(raw_data)\n",
    "\n",
    "feature_generator = DiabetesFeatureGenerator(**feature_generator_params)\n",
    "X = feature_generator.get_features(processed_data)\n",
    "\n",
    "y_pred = model.predict(X)\n",
    "y_pred[:10]\n"
   ]
  },
  {
   "cell_type": "markdown",
   "metadata": {},
   "source": [
    "## Train - Using Workflow and Tasks paradigms"
   ]
  },
  {
   "cell_type": "code",
   "execution_count": 17,
   "metadata": {},
   "outputs": [],
   "source": [
    "# Inputs do Matheus:\n",
    "# Requisito: MLFlow expects the folowing: model (sklearn models for now), metrics (dict), parameters(dict), tags (dict) optional.\n",
    "# Resolucão do problema do sklearn: I can inherit the Model class from the sklearn BaseEstimator.\n",
    "# Sugestão: Params is an yaml.\n",
    "# Sugestão: herdar a classe workflow e criar um MachineLearningWorkflow para treinar ou para orquestrar o pipeline do experimento (feature generation + model training)\n",
    "\n",
    "# Comentarios Lucas:\n",
    "# Penso que esse pipeline pode ser interessante montar com o workflow do Edu."
   ]
  },
  {
   "cell_type": "code",
   "execution_count": 18,
   "metadata": {},
   "outputs": [],
   "source": [
    "# from cd4ml.task import Task\n",
    "# from cd4ml.workflow import Workflow"
   ]
  },
  {
   "cell_type": "code",
   "execution_count": 19,
   "metadata": {},
   "outputs": [],
   "source": [
    "# def dummy_function():#TODO: How to make this callable task run a method of a class?\n",
    "#     pass\n",
    "\n",
    "# load_data = Task(name='load_data', task=dummy_function)\n",
    "# preprocess_data = Task(name='preprocess_data', task=dummy_function)\n",
    "# generate_features = Task(name='generate_features', task=dummy_function)\n",
    "# generate_target = Task(name='generate_target', task=dummy_function)\n",
    "# train_test_split = Task(name='train_test_split', task=dummy_function)\n",
    "# train_model = Task(name='train_model', task=dummy_function)\n",
    "# evaluate_model_on_train = Task(name='evaluate_model_on_train', task=dummy_function)\n",
    "# evaluate_model_on_test = Task(name='evaluate_model_on_test', task=dummy_function)\n",
    "# # last step: save model\n",
    "\n",
    "# w = Workflow()\n",
    "# w.add_task(load_data)\n",
    "# w.add_task(preprocess_data,dependency=['load_data'])\n",
    "# w.add_task(generate_features,dependency=['preprocess_data'])\n",
    "# w.add_task(generate_target,dependency=['preprocess_data'])\n",
    "# w.add_task(train_test_split,dependency=['generate_features','generate_target']) #Question: There is a dependency but no input parameters is passed. How does it work?\n",
    "# w.add_task(train_model,dependency=['train_test_split']) #Similar case here, but only a portion of inputs parameters is passed. X_train and y_train.\n",
    "# w.add_task(evaluate_model_on_train,dependency=['train_model'])\n",
    "# w.add_task(evaluate_model_on_test,dependency=['train_model'])\n"
   ]
  },
  {
   "cell_type": "code",
   "execution_count": 20,
   "metadata": {},
   "outputs": [],
   "source": [
    "# run_config = {\n",
    "#     # \"download_folha\": {\n",
    "#     #     'params': {'url': \"https://feeds.folha.uol.com.br/emcimadahora/rss091.xml\"},\n",
    "#     #     'output': 'download_folha'\n",
    "#     # },\n",
    "#     # \"download_g1\": {\n",
    "#     #     'params': {'url': \"https://g1.globo.com/rss/g1/\"},\n",
    "#     #     'output': 'download_g1'\n",
    "#     # },\n",
    "#     # \"download_g1_brasil\": {\n",
    "#     #     'params': {'url': \"https://g1.globo.com/rss/g1/brasil\"},\n",
    "#     #     'output': 'download_g1_brasil'\n",
    "#     # },\n",
    "#     # \"feeds_aggregate\": {\n",
    "#     #     'params': None,\n",
    "#     #     'output': 'feeds_aggregate'\n",
    "#     # },\n",
    "#     # \"preprocess\": {\n",
    "#     #     'params': None,\n",
    "#     #     'output': 'preprocess'\n",
    "#     # }\n",
    "# }\n",
    "\n",
    "# output = w.run(run_config=run_config, executor='local')"
   ]
  }
 ],
 "metadata": {
  "kernelspec": {
   "display_name": "Python 3.9.12 ('base')",
   "language": "python",
   "name": "python3"
  },
  "language_info": {
   "codemirror_mode": {
    "name": "ipython",
    "version": 3
   },
   "file_extension": ".py",
   "mimetype": "text/x-python",
   "name": "python",
   "nbconvert_exporter": "python",
   "pygments_lexer": "ipython3",
   "version": "3.9.12"
  },
  "orig_nbformat": 4,
  "vscode": {
   "interpreter": {
    "hash": "fba3b5e072295f01be074a5a38b56fd3f9a8b5b7274b5dee54e74765bfdf1822"
   }
  }
 },
 "nbformat": 4,
 "nbformat_minor": 2
}
