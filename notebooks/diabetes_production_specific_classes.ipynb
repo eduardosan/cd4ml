{
 "cells": [
  {
   "cell_type": "code",
   "execution_count": 1,
   "metadata": {},
   "outputs": [],
   "source": [
    "import pandas as pd\n",
    "\n",
    "from sklearn.datasets import load_diabetes\n",
    "from sklearn.linear_model import LinearRegression\n",
    "from sklearn.preprocessing import MinMaxScaler\n",
    "from sklearn.metrics import mean_squared_error,mean_absolute_error\n",
    "\n",
    "def rmse(y_true,y_pred):\n",
    "    return mean_squared_error(y_true,y_pred,squared=False)"
   ]
  },
  {
   "cell_type": "markdown",
   "metadata": {},
   "source": [
    "# Experimentation cycle"
   ]
  },
  {
   "cell_type": "markdown",
   "metadata": {},
   "source": [
    "### Load"
   ]
  },
  {
   "cell_type": "code",
   "execution_count": 107,
   "metadata": {},
   "outputs": [],
   "source": [
    "diabetes = load_diabetes(as_frame=True)\n",
    "X = diabetes.data\n",
    "y = diabetes.target\n",
    "\n",
    "X_train = X.iloc[:300]\n",
    "X_test = X.iloc[300:]\n",
    "\n",
    "y_train = y.iloc[:300]\n",
    "y_test = y.iloc[300:]\n"
   ]
  },
  {
   "cell_type": "markdown",
   "metadata": {},
   "source": [
    "### Preprocess"
   ]
  },
  {
   "cell_type": "code",
   "execution_count": 108,
   "metadata": {},
   "outputs": [],
   "source": [
    "def preprocess_data(df_input,scaler):\n",
    "    df = df_input.copy()\n",
    "    df.loc[(df_input['sex'] == -0.044642),['sex']] = 1\n",
    "    df.loc[df_input['sex'] != -0.044642,['sex']] = 0\n",
    "    df = scaler.transform(df)    \n",
    "    return df\n",
    "\n",
    "scaler = MinMaxScaler()\n",
    "scaler.fit(X_train)\n",
    "\n",
    "X_train_features = preprocess_data(X_train,scaler=scaler)\n",
    "X_test_features = preprocess_data(X_test,scaler=scaler)"
   ]
  },
  {
   "cell_type": "markdown",
   "metadata": {},
   "source": [
    "### Train"
   ]
  },
  {
   "cell_type": "code",
   "execution_count": 109,
   "metadata": {},
   "outputs": [
    {
     "data": {
      "text/plain": [
       "LinearRegression()"
      ]
     },
     "execution_count": 109,
     "metadata": {},
     "output_type": "execute_result"
    }
   ],
   "source": [
    "model = LinearRegression()\n",
    "model.fit(X_train_features,y_train)"
   ]
  },
  {
   "cell_type": "markdown",
   "metadata": {},
   "source": [
    "### Predict"
   ]
  },
  {
   "cell_type": "code",
   "execution_count": 110,
   "metadata": {},
   "outputs": [],
   "source": [
    "y_pred = model.predict(X_test_features)"
   ]
  },
  {
   "cell_type": "markdown",
   "metadata": {},
   "source": [
    "### Evaluate"
   ]
  },
  {
   "cell_type": "code",
   "execution_count": 111,
   "metadata": {},
   "outputs": [
    {
     "data": {
      "text/plain": [
       "53.531572293853515"
      ]
     },
     "execution_count": 111,
     "metadata": {},
     "output_type": "execute_result"
    }
   ],
   "source": [
    "mean_squared_error(y_pred=y_pred,y_true=y_test,squared=False)"
   ]
  },
  {
   "cell_type": "markdown",
   "metadata": {},
   "source": [
    "# Putting code into production format"
   ]
  },
  {
   "cell_type": "markdown",
   "metadata": {},
   "source": [
    "## Defining Contract Classes"
   ]
  },
  {
   "cell_type": "code",
   "execution_count": 2,
   "metadata": {},
   "outputs": [],
   "source": [
    "from abc import ABC, abstractmethod\n",
    "from typing import Callable,Union\n",
    "\n",
    "class DataProcessor(ABC):\n",
    "\n",
    "    @abstractmethod\n",
    "    def load_data(self):\n",
    "        '''Method to load the data into memory from a given path. Data should be stored in this class using the data property.'''\n",
    "        pass\n",
    "\n",
    "    @abstractmethod\n",
    "    def preprocess(self,data:pd.DataFrame)-> pd.DataFrame:\n",
    "        '''Method to preprocess the data. Data should be stored in this class using the data property.'''\n",
    "        pass\n",
    "\n",
    "    @property\n",
    "    def raw_data(self):\n",
    "        return self._raw_data\n",
    "\n",
    "    @raw_data.setter\n",
    "    def raw_data(self,raw_data):\n",
    "        self._raw_data = raw_data\n",
    "\n",
    "    @property\n",
    "    def processed_data(self):\n",
    "        return self._processed_data\n",
    "\n",
    "    @processed_data.setter\n",
    "    def processed_data(self,processed_data):\n",
    "        self._processed_data = processed_data\n",
    "\n",
    "class FeatureGenerator(ABC):\n",
    "\n",
    "    @abstractmethod\n",
    "    def generate_features(self,data:pd.DataFrame)-> pd.DataFrame:\n",
    "        '''Method to generate feature data. Data should be stored in this class using the data property.'''\n",
    "        pass\n",
    "\n",
    "    @abstractmethod\n",
    "    def generate_target(self,data:pd.DataFrame):\n",
    "        pass\n",
    "\n",
    "    @property\n",
    "    def features(self):\n",
    "        return self._features\n",
    "    \n",
    "    @features.setter\n",
    "    def features(self,features):\n",
    "        self._features = features\n",
    "        \n",
    "    @property\n",
    "    def target(self):\n",
    "        return self._target\n",
    "    \n",
    "    @target.setter\n",
    "    def target(self,target):\n",
    "        self._target = target\n",
    "\n",
    "class Model(ABC):\n",
    "\n",
    "    @abstractmethod\n",
    "    def fit(self,X,y):\n",
    "        '''Method to train the machine learning model.'''\n",
    "        pass\n",
    "\n",
    "    @abstractmethod\n",
    "    def predict(self,X):\n",
    "        '''Method to make predictions with the machine learning model.'''\n",
    "        pass\n",
    "    \n",
    "    @property\n",
    "    def parameters(self):\n",
    "        return self._parameters\n",
    "\n",
    "    @parameters.setter\n",
    "    def parameters(self,params):\n",
    "        self._parameters = params\n",
    "    \n",
    "    @property\n",
    "    def model(self):\n",
    "        return self._model\n",
    "\n",
    "    @model.setter\n",
    "    def model(self,model):\n",
    "        self._model = model\n",
    "\n",
    "class ModelEvaluator:\n",
    "\n",
    "    def __init__(self,model):\n",
    "        self.model = model\n",
    "\n",
    "    def evaluate(self,X,y,metrics:Union[Callable,list[Callable]]):\n",
    "\n",
    "        y_pred = self.model.predict(X) #Improvement: some metrics might not work with prediction, but with prediction_proba.\n",
    "\n",
    "        metric_values = {}\n",
    "\n",
    "        for metric in metrics:\n",
    "            metric_name = metric.__name__\n",
    "            metric_values[metric_name] = metric(y_pred,y) \n",
    "        self.metrics = metric_values\n",
    "        \n",
    "        return self.metrics\n",
    "        \n",
    "    @property\n",
    "    def metrics(self):\n",
    "        return self._metrics\n",
    "\n",
    "    @metrics.setter\n",
    "    def metrics(self,metrics:dict):\n",
    "        self._metrics = metrics"
   ]
  },
  {
   "cell_type": "markdown",
   "metadata": {},
   "source": [
    "## Transforming experimentation into production code"
   ]
  },
  {
   "cell_type": "code",
   "execution_count": 3,
   "metadata": {},
   "outputs": [],
   "source": [
    "from sklearn.model_selection import train_test_split\n",
    "\n",
    "class DiabetesDataProcessor(DataProcessor):\n",
    "    \n",
    "    def __init__(self,loader) -> None:\n",
    "        self._loader = loader\n",
    "    \n",
    "    def load_data(self) -> pd.DataFrame:\n",
    "        diabetes = self._loader(as_frame=True)\n",
    "        df = diabetes.data\n",
    "        df['target'] = diabetes.target\n",
    "        self.data = df\n",
    "        return df\n",
    "\n",
    "    def preprocess(self,df:pd.DataFrame) -> pd.DataFrame:\n",
    "        df = self._encode_sex_feature(df)\n",
    "        self.data = df\n",
    "        return df\n",
    "\n",
    "    def _encode_sex_feature(self,df:pd.DataFrame):\n",
    "        df_encoded = df.copy()\n",
    "        df_encoded.loc[(df['sex'] == -0.044642),['sex']] = 1\n",
    "        df_encoded.loc[df['sex'] != -0.044642,['sex']] = 0\n",
    "        return df_encoded\n",
    "\n",
    "class DiabetesFeatureGenerator(FeatureGenerator):\n",
    "    \n",
    "    def generate_features(self, data: pd.DataFrame) -> pd.DataFrame:\n",
    "        if 'target' in data.columns:\n",
    "            self.features = data.drop(columns=['target'])\n",
    "        else:\n",
    "            self.features = data\n",
    "        \n",
    "    def generate_target(self, data: pd.DataFrame) -> pd.DataFrame:\n",
    "        try:\n",
    "            self.target = data['target']\n",
    "        except Exception as e:\n",
    "            print(e)\n",
    "\n",
    "    def train_test_split(self) -> tuple[pd.DataFrame]:\n",
    "        X_train,X_test,y_train,y_test = train_test_split(self.features,self.target,train_size=0.8)\n",
    "\n",
    "        return X_train,X_test,y_train,y_test\n",
    "\n",
    "class DiabetesModel(Model):\n",
    "    \n",
    "    def __init__(self, model_class, scaler, model_params) -> None:\n",
    "        self.model_class = model_class\n",
    "        self.scaler = scaler\n",
    "        self.parameters = model_params\n",
    "\n",
    "    def fit(self,X:pd.DataFrame,y:pd.DataFrame):\n",
    "        self.scaler.fit(X)\n",
    "        X_norm = self.scaler.transform(X)\n",
    "        self.model = self.model_class(**self.parameters)\n",
    "        self.model.fit(X_norm,y)\n",
    "        \n",
    "    def predict(self, X):\n",
    "        X_norm = self.scaler.transform(X)\n",
    "        return self.model.predict(X_norm)"
   ]
  },
  {
   "cell_type": "markdown",
   "metadata": {},
   "source": [
    "### Training"
   ]
  },
  {
   "cell_type": "code",
   "execution_count": 193,
   "metadata": {},
   "outputs": [
    {
     "name": "stdout",
     "output_type": "stream",
     "text": [
      "Train results: {'rmse': 53.099240188856264, 'mean_squared_error': 2819.5293086338484, 'mean_absolute_error': 43.310675381138445}\n",
      "\n",
      "Test results: {'rmse': 60.17943582802767, 'mean_squared_error': 3621.5644965797005, 'mean_absolute_error': 50.0644484106903}\n"
     ]
    }
   ],
   "source": [
    "data_processor = DiabetesDataProcessor(loader=load_diabetes)\n",
    "raw_data = data_processor.load_data()\n",
    "processed_data = data_processor.preprocess(df=raw_data)\n",
    "\n",
    "feature_generator = DiabetesFeatureGenerator()\n",
    "feature_generator.generate_features(processed_data)\n",
    "feature_generator.generate_target(processed_data)\n",
    "X_train,X_test,y_train,y_test = feature_generator.train_test_split()\n",
    "\n",
    "model = DiabetesModel(model_class=LinearRegression,scaler=MinMaxScaler(),model_params={'fit_intercept':True})\n",
    "model.fit(X_train,y_train)\n",
    "\n",
    "evaluator = ModelEvaluator(model=model)\n",
    "results_train = evaluator.evaluate(X=X_train,y=y_train,metrics=[rmse,mean_squared_error,mean_absolute_error])\n",
    "results = evaluator.evaluate(X=X_test,y=y_test,metrics=[rmse,mean_squared_error,mean_absolute_error])\n",
    "\n",
    "print(\"Train results:\",results_train)\n",
    "print(\"\\nTest results:\",results)"
   ]
  },
  {
   "cell_type": "markdown",
   "metadata": {},
   "source": [
    "### Inference"
   ]
  },
  {
   "cell_type": "code",
   "execution_count": null,
   "metadata": {},
   "outputs": [
    {
     "data": {
      "text/plain": [
       "array([218.97021087,  62.52911359, 190.21717535, 152.73986456,\n",
       "       117.66767049, 102.84502549,  90.57947603, 128.04868383,\n",
       "       171.77995468, 205.53512636])"
      ]
     },
     "execution_count": 194,
     "metadata": {},
     "output_type": "execute_result"
    }
   ],
   "source": [
    "data_processor = DiabetesDataProcessor(loader=load_diabetes)\n",
    "raw_data = data_processor.load_data()\n",
    "processed_data = data_processor.preprocess(df=raw_data)\n",
    "\n",
    "feature_generator = DiabetesFeatureGenerator()\n",
    "feature_generator.generate_features(processed_data)\n",
    "\n",
    "y_pred = model.predict(X=feature_generator.features)\n",
    "y_pred[:10]"
   ]
  },
  {
   "cell_type": "code",
   "execution_count": null,
   "metadata": {},
   "outputs": [],
   "source": [
    "\n",
    "# Inputs do Matheus:\n",
    "# Requisito: MLFlow expects the folowing: model (sklearn models for now), metrics (dict), parameters(dict), tags (dict) optional.\n",
    "# Resolucão do problema do sklearn: I can inherit the Model class from the sklearn BaseEstimator.\n",
    "# Sugestão: Params is an yaml.\n",
    "# Sugestão: herdar a classe workflow e criar um MachineLearningWorkflow para treinar ou para orquestrar o pipeline do experimento (feature generation + model training)"
   ]
  },
  {
   "cell_type": "markdown",
   "metadata": {},
   "source": [
    "## Train - Using Workflow and Tasks paradigms"
   ]
  },
  {
   "cell_type": "code",
   "execution_count": 4,
   "metadata": {},
   "outputs": [],
   "source": [
    "from cd4ml.task import Task\n",
    "from cd4ml.workflow import Workflow"
   ]
  },
  {
   "cell_type": "code",
   "execution_count": null,
   "metadata": {},
   "outputs": [],
   "source": [
    "data_processor = DiabetesDataProcessor(loader=load_diabetes)\n",
    "raw_data = data_processor.load_data()\n",
    "processed_data = data_processor.preprocess(df=raw_data)\n",
    "\n",
    "feature_generator = DiabetesFeatureGenerator()\n",
    "feature_generator.generate_features(processed_data)\n",
    "feature_generator.generate_target(processed_data)\n",
    "X_train,X_test,y_train,y_test = feature_generator.train_test_split()\n",
    "\n",
    "model = DiabetesModel(model_class=LinearRegression,scaler=MinMaxScaler(),model_params={'fit_intercept':True})\n",
    "model.fit(X_train,y_train)\n",
    "\n",
    "evaluator = ModelEvaluator(model=model)\n",
    "results_train = evaluator.evaluate(X=X_train,y=y_train,metrics=[rmse,mean_squared_error,mean_absolute_error])\n",
    "results = evaluator.evaluate(X=X_test,y=y_test,metrics=[rmse,mean_squared_error,mean_absolute_error])\n",
    "\n",
    "print(\"Train results:\",results_train)\n",
    "print(\"\\nTest results:\",results)"
   ]
  },
  {
   "cell_type": "code",
   "execution_count": 13,
   "metadata": {},
   "outputs": [],
   "source": [
    "def dummy_function():#TODO: How to make this callable task run a method of a class?\n",
    "    pass\n",
    "load_data = Task(name='load_data', task=dummy_function)\n",
    "preprocess_data = Task(name='preprocess_data', task=dummy_function)\n",
    "generate_features = Task(name='generate_features', task=dummy_function)\n",
    "generate_target = Task(name='generate_target', task=dummy_function)\n",
    "train_test_split = Task(name='train_test_split', task=dummy_function)\n",
    "train_model = Task(name='train_model', task=dummy_function)\n",
    "evaluate_model_on_train = Task(name='evaluate_model_on_train', task=dummy_function)\n",
    "evaluate_model_on_test = Task(name='evaluate_model_on_test', task=dummy_function)\n",
    "\n",
    "\n",
    "w = Workflow()\n",
    "w.add_task(load_data)\n",
    "w.add_task(preprocess_data,dependency=['load_data'])\n",
    "w.add_task(generate_features,dependency=['preprocess_data'])\n",
    "w.add_task(generate_target,dependency=['preprocess_data'])\n",
    "w.add_task(train_test_split,dependency=['generate_features','generate_target']) #Question: There is a dependency but no input parameters is passed. How does it work?\n",
    "w.add_task(train_model,dependency=['train_test_split']) #Similar case here, but only a portion of inputs parameters is passed. X_train and y_train.\n",
    "w.add_task(evaluate_model_on_train,dependency=['train_model'])\n",
    "w.add_task(evaluate_model_on_test,dependency=['train_model'])\n"
   ]
  },
  {
   "cell_type": "code",
   "execution_count": 8,
   "metadata": {},
   "outputs": [],
   "source": [
    "run_config = {\n",
    "    # \"download_folha\": {\n",
    "    #     'params': {'url': \"https://feeds.folha.uol.com.br/emcimadahora/rss091.xml\"},\n",
    "    #     'output': 'download_folha'\n",
    "    # },\n",
    "    # \"download_g1\": {\n",
    "    #     'params': {'url': \"https://g1.globo.com/rss/g1/\"},\n",
    "    #     'output': 'download_g1'\n",
    "    # },\n",
    "    # \"download_g1_brasil\": {\n",
    "    #     'params': {'url': \"https://g1.globo.com/rss/g1/brasil\"},\n",
    "    #     'output': 'download_g1_brasil'\n",
    "    # },\n",
    "    # \"feeds_aggregate\": {\n",
    "    #     'params': None,\n",
    "    #     'output': 'feeds_aggregate'\n",
    "    # },\n",
    "    # \"preprocess\": {\n",
    "    #     'params': None,\n",
    "    #     'output': 'preprocess'\n",
    "    # }\n",
    "}\n",
    "\n",
    "output = w.run(run_config=run_config, executor='local')"
   ]
  }
 ],
 "metadata": {
  "kernelspec": {
   "display_name": "Python 3.9.12 ('base')",
   "language": "python",
   "name": "python3"
  },
  "language_info": {
   "codemirror_mode": {
    "name": "ipython",
    "version": 3
   },
   "file_extension": ".py",
   "mimetype": "text/x-python",
   "name": "python",
   "nbconvert_exporter": "python",
   "pygments_lexer": "ipython3",
   "version": "3.9.12"
  },
  "orig_nbformat": 4,
  "vscode": {
   "interpreter": {
    "hash": "fba3b5e072295f01be074a5a38b56fd3f9a8b5b7274b5dee54e74765bfdf1822"
   }
  }
 },
 "nbformat": 4,
 "nbformat_minor": 2
}
